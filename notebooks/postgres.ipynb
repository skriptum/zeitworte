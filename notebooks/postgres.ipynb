{
 "metadata": {
  "language_info": {
   "codemirror_mode": {
    "name": "ipython",
    "version": 3
   },
   "file_extension": ".py",
   "mimetype": "text/x-python",
   "name": "python",
   "nbconvert_exporter": "python",
   "pygments_lexer": "ipython3",
   "version": "3.9.1-final"
  },
  "orig_nbformat": 2,
  "kernelspec": {
   "name": "python3",
   "display_name": "Python 3.9.1 64-bit ('root': venv)",
   "metadata": {
    "interpreter": {
     "hash": "9c303f2c39f84cd8ac040532a08eb1102ba77379f0ca31dc4c8d4f3b5d3b563e"
    }
   }
  }
 },
 "nbformat": 4,
 "nbformat_minor": 2,
 "cells": [
  {
   "source": [
    "# PostgreSQL"
   ],
   "cell_type": "markdown",
   "metadata": {}
  },
  {
   "cell_type": "code",
   "execution_count": 1,
   "metadata": {},
   "outputs": [],
   "source": [
    "import sqlalchemy as db\n",
    "import zeit\n",
    "import pandas as pd\n",
    "import configparser"
   ]
  },
  {
   "cell_type": "code",
   "execution_count": 3,
   "metadata": {},
   "outputs": [
    {
     "output_type": "error",
     "ename": "Exception",
     "evalue": "Not a good key",
     "traceback": [
      "\u001b[0;31m---------------------------------------------------------------------------\u001b[0m",
      "\u001b[0;31mException\u001b[0m                                 Traceback (most recent call last)",
      "\u001b[0;32m<ipython-input-3-ea1babf38ad0>\u001b[0m in \u001b[0;36m<module>\u001b[0;34m\u001b[0m\n\u001b[1;32m      6\u001b[0m \u001b[0;31m#set the API, authenticate and check status\u001b[0m\u001b[0;34m\u001b[0m\u001b[0;34m\u001b[0m\u001b[0;34m\u001b[0m\u001b[0m\n\u001b[1;32m      7\u001b[0m \u001b[0mapi\u001b[0m \u001b[0;34m=\u001b[0m \u001b[0mzeit\u001b[0m\u001b[0;34m.\u001b[0m\u001b[0mAPI\u001b[0m\u001b[0;34m(\u001b[0m\u001b[0;34m)\u001b[0m\u001b[0;34m\u001b[0m\u001b[0;34m\u001b[0m\u001b[0m\n\u001b[0;32m----> 8\u001b[0;31m \u001b[0mapi\u001b[0m\u001b[0;34m.\u001b[0m\u001b[0mset_token\u001b[0m\u001b[0;34m(\u001b[0m\u001b[0mzeit_key\u001b[0m\u001b[0;34m)\u001b[0m\u001b[0;34m\u001b[0m\u001b[0;34m\u001b[0m\u001b[0m\n\u001b[0m\u001b[1;32m      9\u001b[0m \u001b[0mapi\u001b[0m\u001b[0;34m.\u001b[0m\u001b[0mget_status\u001b[0m\u001b[0;34m(\u001b[0m\u001b[0;34m)\u001b[0m\u001b[0;34m\u001b[0m\u001b[0;34m\u001b[0m\u001b[0m\n",
      "\u001b[0;32m~/Documents/python/root/lib/python3.9/site-packages/zeit/api.py\u001b[0m in \u001b[0;36mset_token\u001b[0;34m(self, api_key)\u001b[0m\n\u001b[1;32m     56\u001b[0m             \u001b[0mself\u001b[0m\u001b[0;34m.\u001b[0m\u001b[0mtoken\u001b[0m \u001b[0;34m=\u001b[0m \u001b[0mapi_key\u001b[0m\u001b[0;34m\u001b[0m\u001b[0;34m\u001b[0m\u001b[0m\n\u001b[1;32m     57\u001b[0m         \u001b[0;32melse\u001b[0m\u001b[0;34m:\u001b[0m\u001b[0;34m\u001b[0m\u001b[0;34m\u001b[0m\u001b[0m\n\u001b[0;32m---> 58\u001b[0;31m             \u001b[0;32mraise\u001b[0m \u001b[0mException\u001b[0m\u001b[0;34m(\u001b[0m\u001b[0;34m\"Not a good key\"\u001b[0m\u001b[0;34m)\u001b[0m\u001b[0;34m\u001b[0m\u001b[0;34m\u001b[0m\u001b[0m\n\u001b[0m\u001b[1;32m     59\u001b[0m \u001b[0;34m\u001b[0m\u001b[0m\n\u001b[1;32m     60\u001b[0m \u001b[0;34m\u001b[0m\u001b[0m\n",
      "\u001b[0;31mException\u001b[0m: Not a good key"
     ]
    }
   ],
   "source": [
    "c = configparser.ConfigParser()\n",
    "c.read(\"config.ini\")\n",
    "zeit_key = c.get(\"Zeit\", \"key\")\n",
    "uri = c.get(\"Postgres\", \"URI\")\n",
    "\n",
    "#set the API, authenticate and check status\n",
    "api = zeit.API()\n",
    "api.set_token(zeit_key)\n",
    "api.get_status()"
   ]
  },
  {
   "cell_type": "code",
   "execution_count": 15,
   "metadata": {},
   "outputs": [],
   "source": [
    "#engine = db.create_engine(\"postgresql://code@localhost/test\") #local\n",
    "engine = db.create_engine(uri) #on herokus\n",
    "con = engine.connect()\n",
    "metadata = db.MetaData()"
   ]
  },
  {
   "source": [
    "### Retrieving Values"
   ],
   "cell_type": "markdown",
   "metadata": {}
  },
  {
   "cell_type": "code",
   "execution_count": 16,
   "metadata": {},
   "outputs": [],
   "source": [
    "table = db.Table(\"keyword\", metadata, autoload=True, autoload_with=engine)"
   ]
  },
  {
   "cell_type": "code",
   "execution_count": 37,
   "metadata": {},
   "outputs": [],
   "source": [
    "word = \"Merkel\"\n",
    "query = db.select([table])#.where(table.columns.uri == f\"http://api.zeit.de/keyword/{word}\")\n",
    "ResultProxy = con.execute(query)\n",
    "result = ResultProxy.fetchall()\n",
    "try:\n",
    "    df = pd.DataFrame(result, columns = result[0].keys())\n",
    "except Exception:\n",
    "    print(\"No Results\")"
   ]
  },
  {
   "cell_type": "code",
   "execution_count": 38,
   "metadata": {},
   "outputs": [
    {
     "output_type": "execute_result",
     "data": {
      "text/plain": [
       "                                        uri          lexical  results  \\\n",
       "0  http://api.zeit.de/keyword/angela-merkel    Angela Merkel     9418   \n",
       "1       http://api.zeit.de/keyword/roettgen  Norbert Röttgen      128   \n",
       "2   http://api.zeit.de/keyword/gazastreifen     gazastreifen      183   \n",
       "3  http://api.zeit.de/keyword/armin-laschet    Armin Laschet      475   \n",
       "\n",
       "       type                                               json  \\\n",
       "0    person  {\"638645094239\":5,\"670181094239\":9,\"7018034942...   \n",
       "1  location  {\"1143566695229\":3,\"1206725095229\":2,\"12382610...   \n",
       "2   subject  {\"1206725096227\":2,\"1269797096227\":1,\"13329554...   \n",
       "3    person  {\"859571158011\":1,\"1017337558011\":1,\"108049595...   \n",
       "\n",
       "                                             matches  score  \n",
       "0  {'subtitle': 'Der Tourismusbeauftragte der Bun...     93  \n",
       "1  {'subtitle': 'Laut einem Bericht könnte Deutsc...     36  \n",
       "2  {'subtitle': 'Erstmals seit Jahren ist der Gre...     53  \n",
       "3  {'subtitle': 'Ein Ländervergleich aus gegebene...      9  "
      ],
      "text/html": "<div>\n<style scoped>\n    .dataframe tbody tr th:only-of-type {\n        vertical-align: middle;\n    }\n\n    .dataframe tbody tr th {\n        vertical-align: top;\n    }\n\n    .dataframe thead th {\n        text-align: right;\n    }\n</style>\n<table border=\"1\" class=\"dataframe\">\n  <thead>\n    <tr style=\"text-align: right;\">\n      <th></th>\n      <th>uri</th>\n      <th>lexical</th>\n      <th>results</th>\n      <th>type</th>\n      <th>json</th>\n      <th>matches</th>\n      <th>score</th>\n    </tr>\n  </thead>\n  <tbody>\n    <tr>\n      <th>0</th>\n      <td>http://api.zeit.de/keyword/angela-merkel</td>\n      <td>Angela Merkel</td>\n      <td>9418</td>\n      <td>person</td>\n      <td>{\"638645094239\":5,\"670181094239\":9,\"7018034942...</td>\n      <td>{'subtitle': 'Der Tourismusbeauftragte der Bun...</td>\n      <td>93</td>\n    </tr>\n    <tr>\n      <th>1</th>\n      <td>http://api.zeit.de/keyword/roettgen</td>\n      <td>Norbert Röttgen</td>\n      <td>128</td>\n      <td>location</td>\n      <td>{\"1143566695229\":3,\"1206725095229\":2,\"12382610...</td>\n      <td>{'subtitle': 'Laut einem Bericht könnte Deutsc...</td>\n      <td>36</td>\n    </tr>\n    <tr>\n      <th>2</th>\n      <td>http://api.zeit.de/keyword/gazastreifen</td>\n      <td>gazastreifen</td>\n      <td>183</td>\n      <td>subject</td>\n      <td>{\"1206725096227\":2,\"1269797096227\":1,\"13329554...</td>\n      <td>{'subtitle': 'Erstmals seit Jahren ist der Gre...</td>\n      <td>53</td>\n    </tr>\n    <tr>\n      <th>3</th>\n      <td>http://api.zeit.de/keyword/armin-laschet</td>\n      <td>Armin Laschet</td>\n      <td>475</td>\n      <td>person</td>\n      <td>{\"859571158011\":1,\"1017337558011\":1,\"108049595...</td>\n      <td>{'subtitle': 'Ein Ländervergleich aus gegebene...</td>\n      <td>9</td>\n    </tr>\n  </tbody>\n</table>\n</div>"
     },
     "metadata": {},
     "execution_count": 38
    }
   ],
   "source": [
    "df"
   ]
  },
  {
   "source": [
    "### Inserting Values"
   ],
   "cell_type": "markdown",
   "metadata": {}
  },
  {
   "cell_type": "code",
   "execution_count": 17,
   "metadata": {},
   "outputs": [
    {
     "output_type": "execute_result",
     "data": {
      "text/plain": [
       "['uri', 'lexical', 'results', 'type', 'json', 'matches', 'score']"
      ]
     },
     "metadata": {},
     "execution_count": 17
    }
   ],
   "source": [
    "table.columns.keys()"
   ]
  },
  {
   "cell_type": "code",
   "execution_count": 35,
   "metadata": {},
   "outputs": [],
   "source": [
    "r = api.get_keyword(\"armin-laschet\", facet_time=\"1year\")"
   ]
  },
  {
   "cell_type": "code",
   "execution_count": 36,
   "metadata": {},
   "outputs": [],
   "source": [
    "query = db.insert(table).values(\n",
    "    uri = r.uri, lexical = r.name, results = r.found, \n",
    "    type = r.type, json = r.get_facets().to_json(),\n",
    "    matches = r.get_raw()[\"matches\"][0], score = r.score\n",
    ")\n",
    "ResultProxy = con.execute(query)"
   ]
  },
  {
   "source": [
    "### Deleting Values"
   ],
   "cell_type": "markdown",
   "metadata": {}
  },
  {
   "cell_type": "code",
   "execution_count": 32,
   "metadata": {},
   "outputs": [],
   "source": [
    "delete = table.delete().where(table.columns.lexical == 'Laschet, Armin')\n",
    "ResultProxy = con.execute(delete)"
   ]
  },
  {
   "source": [
    "## Workflow for inserting"
   ],
   "cell_type": "markdown",
   "metadata": {}
  },
  {
   "cell_type": "code",
   "execution_count": 25,
   "metadata": {},
   "outputs": [],
   "source": [
    "word_list = [\"angela-merkel\", \"roettgen\", \"gazastreifen\"]\n",
    "for w in word_list:\n",
    "    #call the api\n",
    "    r = api.get_keyword(w, facet_time=\"1year\", limit = 1)\n",
    "\n",
    "    try:\n",
    "        matches = r.get_raw()[\"matches\"][0]\n",
    "    except Exception:\n",
    "        matches = ''\n",
    "\n",
    "    #construct the insert query\n",
    "    query = db.insert(table).values(\n",
    "        uri = r.uri, lexical = r.name, results = r.found, \n",
    "        type = r.type, json = r.get_facets().to_json(),\n",
    "        matches = matches, score = r.score,\n",
    "        )\n",
    "    #execute it\n",
    "    ResultProxy = con.execute(query)"
   ]
  },
  {
   "source": [
    "# Get the Data in Dash"
   ],
   "cell_type": "markdown",
   "metadata": {}
  },
  {
   "cell_type": "code",
   "execution_count": null,
   "metadata": {},
   "outputs": [],
   "source": [
    "word = \"gazastreifen\"\n",
    "query = db.select([table]).where(table.columns.uri == f\"http://api.zeit.de/keyword/{word}\")\n",
    "ResultProxy = con.execute(query)\n",
    "result = ResultProxy.fetchall()"
   ]
  },
  {
   "cell_type": "code",
   "execution_count": null,
   "metadata": {},
   "outputs": [],
   "source": [
    "#better querys\n",
    "query = db.select([table]).filter(db.or_( #SELECT * FROM table WHERE \n",
    "        table.columns.uri.like(f\"%meck%\"), #uri LIKE '%word%' OR\n",
    "        table.columns.lexical.like(f\"%meck%\"), #lexical LIKE '%word%' OR\n",
    "        )\n",
    "        ).order_by(db.desc(table.columns.results)).limit(5) #ORDER BY results DESC LIMIT 5\n",
    "ResultProxy = con.execute(query)\n",
    "result = ResultProxy.fetchall()"
   ]
  }
 ]
}