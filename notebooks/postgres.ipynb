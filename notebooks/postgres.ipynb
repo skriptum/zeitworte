{
 "metadata": {
  "language_info": {
   "codemirror_mode": {
    "name": "ipython",
    "version": 3
   },
   "file_extension": ".py",
   "mimetype": "text/x-python",
   "name": "python",
   "nbconvert_exporter": "python",
   "pygments_lexer": "ipython3",
   "version": "3.9.1"
  },
  "orig_nbformat": 2,
  "kernelspec": {
   "name": "python391jvsc74a57bd0aee8b7b246df8f9039afb4144a1f6fd8d2ca17a180786b69acc140d282b71a49",
   "display_name": "Python 3.9.1 64-bit"
  }
 },
 "nbformat": 4,
 "nbformat_minor": 2,
 "cells": [
  {
   "source": [
    "# PostgreSQL"
   ],
   "cell_type": "markdown",
   "metadata": {}
  },
  {
   "cell_type": "code",
   "execution_count": 1,
   "metadata": {},
   "outputs": [],
   "source": [
    "import sqlalchemy as db\n",
    "import zeit\n",
    "import pandas as pd\n",
    "import configparser"
   ]
  },
  {
   "cell_type": "code",
   "execution_count": 2,
   "metadata": {},
   "outputs": [],
   "source": [
    "c = configparser.ConfigParser()\n",
    "c.read(\"config.ini\")\n",
    "zeit_key = c.get(\"Zeit\", \"key\")\n",
    "uri = c.get(\"Postgres\", \"URI\")\n",
    "\n",
    "#set the API, authenticate and check status\n",
    "#api = zeit.API()\n",
    "#api.set_token(zeit_key)\n",
    "#api.get_status()"
   ]
  },
  {
   "cell_type": "code",
   "execution_count": 4,
   "metadata": {},
   "outputs": [],
   "source": [
    "engine = db.create_engine(\"postgresql://code@localhost/test\") #local\n",
    "#engine = db.create_engine(uri) #on herokus\n",
    "con = engine.connect()\n",
    "metadata = db.MetaData()"
   ]
  },
  {
   "source": [
    "### Retrieving Values"
   ],
   "cell_type": "markdown",
   "metadata": {}
  },
  {
   "cell_type": "code",
   "execution_count": 5,
   "metadata": {},
   "outputs": [],
   "source": [
    "table = db.Table(\"keyword\", metadata, autoload=True, autoload_with=engine)"
   ]
  },
  {
   "cell_type": "code",
   "execution_count": 6,
   "metadata": {},
   "outputs": [],
   "source": [
    "word = \"Merkel\"\n",
    "query = db.select([table])#.where(table.columns.uri == f\"http://api.zeit.de/keyword/{word}\")\n",
    "ResultProxy = con.execute(query)\n",
    "result = ResultProxy.fetchmany()\n",
    "try:\n",
    "    df = pd.DataFrame(result, columns = result[0].keys())\n",
    "except Exception:\n",
    "    print(\"No Results\")"
   ]
  },
  {
   "cell_type": "code",
   "execution_count": 18,
   "metadata": {},
   "outputs": [],
   "source": [
    "df.to_json(\"../data/startup.json\")"
   ]
  },
  {
   "cell_type": "code",
   "execution_count": 14,
   "metadata": {},
   "outputs": [
    {
     "output_type": "error",
     "ename": "TypeError",
     "evalue": "read_json() got an unexpected keyword argument 'index_column'",
     "traceback": [
      "\u001b[0;31m---------------------------------------------------------------------------\u001b[0m",
      "\u001b[0;31mTypeError\u001b[0m                                 Traceback (most recent call last)",
      "\u001b[0;32m<ipython-input-14-fd4172aeb1ab>\u001b[0m in \u001b[0;36m<module>\u001b[0;34m\u001b[0m\n\u001b[0;32m----> 1\u001b[0;31m \u001b[0mpd\u001b[0m\u001b[0;34m.\u001b[0m\u001b[0mread_json\u001b[0m\u001b[0;34m(\u001b[0m\u001b[0mstr\u001b[0m\u001b[0;34m(\u001b[0m\u001b[0mst\u001b[0m\u001b[0;34m)\u001b[0m\u001b[0;34m,\u001b[0m \u001b[0mindex_column\u001b[0m \u001b[0;34m=\u001b[0m \u001b[0;34m\"uri\"\u001b[0m\u001b[0;34m)\u001b[0m\u001b[0;34m\u001b[0m\u001b[0;34m\u001b[0m\u001b[0m\n\u001b[0m",
      "\u001b[0;32m/Library/Frameworks/Python.framework/Versions/3.9/lib/python3.9/site-packages/pandas/util/_decorators.py\u001b[0m in \u001b[0;36mwrapper\u001b[0;34m(*args, **kwargs)\u001b[0m\n\u001b[1;32m    197\u001b[0m                 \u001b[0;32melse\u001b[0m\u001b[0;34m:\u001b[0m\u001b[0;34m\u001b[0m\u001b[0;34m\u001b[0m\u001b[0m\n\u001b[1;32m    198\u001b[0m                     \u001b[0mkwargs\u001b[0m\u001b[0;34m[\u001b[0m\u001b[0mnew_arg_name\u001b[0m\u001b[0;34m]\u001b[0m \u001b[0;34m=\u001b[0m \u001b[0mnew_arg_value\u001b[0m\u001b[0;34m\u001b[0m\u001b[0;34m\u001b[0m\u001b[0m\n\u001b[0;32m--> 199\u001b[0;31m             \u001b[0;32mreturn\u001b[0m \u001b[0mfunc\u001b[0m\u001b[0;34m(\u001b[0m\u001b[0;34m*\u001b[0m\u001b[0margs\u001b[0m\u001b[0;34m,\u001b[0m \u001b[0;34m**\u001b[0m\u001b[0mkwargs\u001b[0m\u001b[0;34m)\u001b[0m\u001b[0;34m\u001b[0m\u001b[0;34m\u001b[0m\u001b[0m\n\u001b[0m\u001b[1;32m    200\u001b[0m \u001b[0;34m\u001b[0m\u001b[0m\n\u001b[1;32m    201\u001b[0m         \u001b[0;32mreturn\u001b[0m \u001b[0mcast\u001b[0m\u001b[0;34m(\u001b[0m\u001b[0mF\u001b[0m\u001b[0;34m,\u001b[0m \u001b[0mwrapper\u001b[0m\u001b[0;34m)\u001b[0m\u001b[0;34m\u001b[0m\u001b[0;34m\u001b[0m\u001b[0m\n",
      "\u001b[0;32m/Library/Frameworks/Python.framework/Versions/3.9/lib/python3.9/site-packages/pandas/util/_decorators.py\u001b[0m in \u001b[0;36mwrapper\u001b[0;34m(*args, **kwargs)\u001b[0m\n\u001b[1;32m    297\u001b[0m                 )\n\u001b[1;32m    298\u001b[0m                 \u001b[0mwarnings\u001b[0m\u001b[0;34m.\u001b[0m\u001b[0mwarn\u001b[0m\u001b[0;34m(\u001b[0m\u001b[0mmsg\u001b[0m\u001b[0;34m,\u001b[0m \u001b[0mFutureWarning\u001b[0m\u001b[0;34m,\u001b[0m \u001b[0mstacklevel\u001b[0m\u001b[0;34m=\u001b[0m\u001b[0mstacklevel\u001b[0m\u001b[0;34m)\u001b[0m\u001b[0;34m\u001b[0m\u001b[0;34m\u001b[0m\u001b[0m\n\u001b[0;32m--> 299\u001b[0;31m             \u001b[0;32mreturn\u001b[0m \u001b[0mfunc\u001b[0m\u001b[0;34m(\u001b[0m\u001b[0;34m*\u001b[0m\u001b[0margs\u001b[0m\u001b[0;34m,\u001b[0m \u001b[0;34m**\u001b[0m\u001b[0mkwargs\u001b[0m\u001b[0;34m)\u001b[0m\u001b[0;34m\u001b[0m\u001b[0;34m\u001b[0m\u001b[0m\n\u001b[0m\u001b[1;32m    300\u001b[0m \u001b[0;34m\u001b[0m\u001b[0m\n\u001b[1;32m    301\u001b[0m         \u001b[0;32mreturn\u001b[0m \u001b[0mwrapper\u001b[0m\u001b[0;34m\u001b[0m\u001b[0;34m\u001b[0m\u001b[0m\n",
      "\u001b[0;31mTypeError\u001b[0m: read_json() got an unexpected keyword argument 'index_column'"
     ]
    }
   ],
   "source": [
    "pd.read_json(str(st), index_column = \"uri\")"
   ]
  },
  {
   "source": [
    "### Inserting Values"
   ],
   "cell_type": "markdown",
   "metadata": {}
  },
  {
   "cell_type": "code",
   "execution_count": 17,
   "metadata": {},
   "outputs": [
    {
     "output_type": "execute_result",
     "data": {
      "text/plain": [
       "['uri', 'lexical', 'results', 'type', 'json', 'matches', 'score']"
      ]
     },
     "metadata": {},
     "execution_count": 17
    }
   ],
   "source": [
    "table.columns.keys()"
   ]
  },
  {
   "cell_type": "code",
   "execution_count": 35,
   "metadata": {},
   "outputs": [],
   "source": [
    "r = api.get_keyword(\"armin-laschet\", facet_time=\"1year\")"
   ]
  },
  {
   "cell_type": "code",
   "execution_count": 36,
   "metadata": {},
   "outputs": [],
   "source": [
    "query = db.insert(table).values(\n",
    "    uri = r.uri, lexical = r.name, results = r.found, \n",
    "    type = r.type, json = r.get_facets().to_json(),\n",
    "    matches = r.get_raw()[\"matches\"][0], score = r.score\n",
    ")\n",
    "ResultProxy = con.execute(query)"
   ]
  },
  {
   "source": [
    "### Deleting Values"
   ],
   "cell_type": "markdown",
   "metadata": {}
  },
  {
   "cell_type": "code",
   "execution_count": 32,
   "metadata": {},
   "outputs": [],
   "source": [
    "delete = table.delete().where(table.columns.lexical == 'Laschet, Armin')\n",
    "ResultProxy = con.execute(delete)"
   ]
  },
  {
   "source": [
    "## Workflow for inserting"
   ],
   "cell_type": "markdown",
   "metadata": {}
  },
  {
   "cell_type": "code",
   "execution_count": 25,
   "metadata": {},
   "outputs": [],
   "source": [
    "word_list = [\"angela-merkel\", \"roettgen\", \"gazastreifen\"]\n",
    "for w in word_list:\n",
    "    #call the api\n",
    "    r = api.get_keyword(w, facet_time=\"1year\", limit = 1)\n",
    "\n",
    "    try:\n",
    "        matches = r.get_raw()[\"matches\"][0]\n",
    "    except Exception:\n",
    "        matches = ''\n",
    "\n",
    "    #construct the insert query\n",
    "    query = db.insert(table).values(\n",
    "        uri = r.uri, lexical = r.name, results = r.found, \n",
    "        type = r.type, json = r.get_facets().to_json(),\n",
    "        matches = matches, score = r.score,\n",
    "        )\n",
    "    #execute it\n",
    "    ResultProxy = con.execute(query)"
   ]
  },
  {
   "source": [
    "# Get the Data in Dash"
   ],
   "cell_type": "markdown",
   "metadata": {}
  },
  {
   "cell_type": "code",
   "execution_count": null,
   "metadata": {},
   "outputs": [],
   "source": [
    "word = \"gazastreifen\"\n",
    "query = db.select([table]).where(table.columns.uri == f\"http://api.zeit.de/keyword/{word}\")\n",
    "ResultProxy = con.execute(query)\n",
    "result = ResultProxy.fetchall()"
   ]
  },
  {
   "cell_type": "code",
   "execution_count": null,
   "metadata": {},
   "outputs": [],
   "source": [
    "#better querys\n",
    "query = db.select([table]).filter(db.or_( #SELECT * FROM table WHERE \n",
    "        table.columns.uri.like(f\"%meck%\"), #uri LIKE '%word%' OR\n",
    "        table.columns.lexical.like(f\"%meck%\"), #lexical LIKE '%word%' OR\n",
    "        )\n",
    "        ).order_by(db.desc(table.columns.results)).limit(5) #ORDER BY results DESC LIMIT 5\n",
    "ResultProxy = con.execute(query)\n",
    "result = ResultProxy.fetchall()"
   ]
  }
 ]
}