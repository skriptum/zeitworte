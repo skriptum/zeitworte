{
 "metadata": {
  "language_info": {
   "codemirror_mode": {
    "name": "ipython",
    "version": 3
   },
   "file_extension": ".py",
   "mimetype": "text/x-python",
   "name": "python",
   "nbconvert_exporter": "python",
   "pygments_lexer": "ipython3",
   "version": "3.9.1"
  },
  "orig_nbformat": 2,
  "kernelspec": {
   "name": "python391jvsc74a57bd0aee8b7b246df8f9039afb4144a1f6fd8d2ca17a180786b69acc140d282b71a49",
   "display_name": "Python 3.9.1 64-bit"
  }
 },
 "nbformat": 4,
 "nbformat_minor": 2,
 "cells": [
  {
   "source": [
    "# PostgreSQL"
   ],
   "cell_type": "markdown",
   "metadata": {}
  },
  {
   "cell_type": "code",
   "execution_count": 1,
   "metadata": {},
   "outputs": [],
   "source": [
    "import sqlalchemy as db\n",
    "import zeit\n",
    "import pandas as pd\n",
    "import configparser"
   ]
  },
  {
   "cell_type": "code",
   "execution_count": 8,
   "metadata": {},
   "outputs": [
    {
     "output_type": "execute_result",
     "data": {
      "text/plain": [
       "'everything ok'"
      ]
     },
     "metadata": {},
     "execution_count": 8
    }
   ],
   "source": [
    "c = configparser.ConfigParser()\n",
    "c.read(\"config.ini\")\n",
    "zeit_key = c.get(\"Zeit\", \"key\")\n",
    "uri = c.get(\"Postgres\", \"URI\")\n",
    "\n",
    "#set the API, authenticate and check status\n",
    "api = zeit.API()\n",
    "api.set_token(zeit_key)\n",
    "api.get_status()"
   ]
  },
  {
   "cell_type": "code",
   "execution_count": 3,
   "metadata": {},
   "outputs": [],
   "source": [
    "engine = db.create_engine(\"postgresql://code@localhost/test\") #local\n",
    "#engine = db.create_engine(uri) #on herokus\n",
    "con = engine.connect()\n",
    "metadata = db.MetaData()"
   ]
  },
  {
   "source": [
    "### Retrieving Values"
   ],
   "cell_type": "markdown",
   "metadata": {}
  },
  {
   "cell_type": "code",
   "execution_count": 4,
   "metadata": {},
   "outputs": [],
   "source": [
    "table = db.Table(\"keyword\", metadata, autoload=True, autoload_with=engine)"
   ]
  },
  {
   "cell_type": "code",
   "execution_count": 16,
   "metadata": {},
   "outputs": [],
   "source": [
    "word = \"Merkel\"\n",
    "query = db.select([table])#.where(table.columns.uri == f\"http://api.zeit.de/keyword/{word}\")\n",
    "ResultProxy = con.execute(query)\n",
    "result = ResultProxy.fetchmany(5)\n",
    "try:\n",
    "    df = pd.DataFrame(result, columns = result[0].keys())\n",
    "except Exception:\n",
    "    print(\"No Results\")"
   ]
  },
  {
   "cell_type": "code",
   "execution_count": 17,
   "metadata": {},
   "outputs": [
    {
     "output_type": "execute_result",
     "data": {
      "text/plain": [
       "                                                 uri                 lexical  \\\n",
       "0  http://api.zeit.de/keyword/mecklenburg-vorpommern  Mecklenburg-Vorpommern   \n",
       "1           http://api.zeit.de/keyword/krankenkassen           Krankenkassen   \n",
       "2            http://api.zeit.de/keyword/gazastreifen            gazastreifen   \n",
       "3           http://api.zeit.de/keyword/angela-merkel           Angela Merkel   \n",
       "4           http://api.zeit.de/keyword/armin-laschet           Armin Laschet   \n",
       "\n",
       "   results          type                                               json  \\\n",
       "0     1324      location  {\"-750236879496\":3,\"-718700879496\":1,\"-6555424...   \n",
       "1        1  organization                                {\"1269449521497\":1}   \n",
       "2      183       subject  {\"1206377522496\":2,\"1269449522496\":1,\"13326079...   \n",
       "3     9400        person  {\"638307854978\":5,\"669843854978\":9,\"7014662549...   \n",
       "4      473        person  {\"859232655982\":1,\"1016999055982\":1,\"108015745...   \n",
       "\n",
       "                                             matches  score  \n",
       "0  {'subtitle': 'Alfred Sauter war einer der einf...     68  \n",
       "1  {'subtitle': 'Wer nach einem Burn-out wieder a...     44  \n",
       "2  {'subtitle': 'Erstmals seit Jahren ist der Gre...     53  \n",
       "3  {'subtitle': 'Wer entscheidet, wenn man es sel...     93  \n",
       "4  {'subtitle': 'Das ist neu, nicht nur für die C...      9  "
      ],
      "text/html": "<div>\n<style scoped>\n    .dataframe tbody tr th:only-of-type {\n        vertical-align: middle;\n    }\n\n    .dataframe tbody tr th {\n        vertical-align: top;\n    }\n\n    .dataframe thead th {\n        text-align: right;\n    }\n</style>\n<table border=\"1\" class=\"dataframe\">\n  <thead>\n    <tr style=\"text-align: right;\">\n      <th></th>\n      <th>uri</th>\n      <th>lexical</th>\n      <th>results</th>\n      <th>type</th>\n      <th>json</th>\n      <th>matches</th>\n      <th>score</th>\n    </tr>\n  </thead>\n  <tbody>\n    <tr>\n      <th>0</th>\n      <td>http://api.zeit.de/keyword/mecklenburg-vorpommern</td>\n      <td>Mecklenburg-Vorpommern</td>\n      <td>1324</td>\n      <td>location</td>\n      <td>{\"-750236879496\":3,\"-718700879496\":1,\"-6555424...</td>\n      <td>{'subtitle': 'Alfred Sauter war einer der einf...</td>\n      <td>68</td>\n    </tr>\n    <tr>\n      <th>1</th>\n      <td>http://api.zeit.de/keyword/krankenkassen</td>\n      <td>Krankenkassen</td>\n      <td>1</td>\n      <td>organization</td>\n      <td>{\"1269449521497\":1}</td>\n      <td>{'subtitle': 'Wer nach einem Burn-out wieder a...</td>\n      <td>44</td>\n    </tr>\n    <tr>\n      <th>2</th>\n      <td>http://api.zeit.de/keyword/gazastreifen</td>\n      <td>gazastreifen</td>\n      <td>183</td>\n      <td>subject</td>\n      <td>{\"1206377522496\":2,\"1269449522496\":1,\"13326079...</td>\n      <td>{'subtitle': 'Erstmals seit Jahren ist der Gre...</td>\n      <td>53</td>\n    </tr>\n    <tr>\n      <th>3</th>\n      <td>http://api.zeit.de/keyword/angela-merkel</td>\n      <td>Angela Merkel</td>\n      <td>9400</td>\n      <td>person</td>\n      <td>{\"638307854978\":5,\"669843854978\":9,\"7014662549...</td>\n      <td>{'subtitle': 'Wer entscheidet, wenn man es sel...</td>\n      <td>93</td>\n    </tr>\n    <tr>\n      <th>4</th>\n      <td>http://api.zeit.de/keyword/armin-laschet</td>\n      <td>Armin Laschet</td>\n      <td>473</td>\n      <td>person</td>\n      <td>{\"859232655982\":1,\"1016999055982\":1,\"108015745...</td>\n      <td>{'subtitle': 'Das ist neu, nicht nur für die C...</td>\n      <td>9</td>\n    </tr>\n  </tbody>\n</table>\n</div>"
     },
     "metadata": {},
     "execution_count": 17
    }
   ],
   "source": [
    "df"
   ]
  },
  {
   "source": [
    "### Inserting Values"
   ],
   "cell_type": "markdown",
   "metadata": {}
  },
  {
   "cell_type": "code",
   "execution_count": 17,
   "metadata": {},
   "outputs": [
    {
     "output_type": "execute_result",
     "data": {
      "text/plain": [
       "['uri', 'lexical', 'results', 'type', 'json', 'matches', 'score']"
      ]
     },
     "metadata": {},
     "execution_count": 17
    }
   ],
   "source": [
    "table.columns.keys()"
   ]
  },
  {
   "cell_type": "code",
   "execution_count": 35,
   "metadata": {},
   "outputs": [],
   "source": [
    "r = api.get_keyword(\"armin-laschet\", facet_time=\"1year\")"
   ]
  },
  {
   "cell_type": "code",
   "execution_count": 36,
   "metadata": {},
   "outputs": [],
   "source": [
    "query = db.insert(table).values(\n",
    "    uri = r.uri, lexical = r.name, results = r.found, \n",
    "    type = r.type, json = r.get_facets().to_json(),\n",
    "    matches = r.get_raw()[\"matches\"][0], score = r.score\n",
    ")\n",
    "ResultProxy = con.execute(query)"
   ]
  },
  {
   "source": [
    "### Deleting Values"
   ],
   "cell_type": "markdown",
   "metadata": {}
  },
  {
   "cell_type": "code",
   "execution_count": 32,
   "metadata": {},
   "outputs": [],
   "source": [
    "delete = table.delete().where(table.columns.lexical == 'Laschet, Armin')\n",
    "ResultProxy = con.execute(delete)"
   ]
  },
  {
   "source": [
    "## Workflow for inserting"
   ],
   "cell_type": "markdown",
   "metadata": {}
  },
  {
   "cell_type": "code",
   "execution_count": 12,
   "metadata": {},
   "outputs": [
    {
     "output_type": "execute_result",
     "data": {
      "text/plain": [
       " Search for 'spahn': 1 results, limit: 10, matches : \n",
       " \n",
       "Jens Spahn: http://api.zeit.de/keyword/jens-spahn"
      ]
     },
     "metadata": {},
     "execution_count": 12
    }
   ],
   "source": [
    "api.search_for(\"spahn\", \"keyword\")"
   ]
  },
  {
   "cell_type": "code",
   "execution_count": 18,
   "metadata": {},
   "outputs": [],
   "source": [
    "word_list = [\"friedrich-merz\", \"jens-spahn\"]\n",
    "for w in word_list:\n",
    "    #call the api\n",
    "    r = api.get_keyword(w, facet_time=\"1year\", limit = 1)\n",
    "\n",
    "    try:\n",
    "        matches = r.get_raw()[\"matches\"][0]\n",
    "    except Exception:\n",
    "        matches = ''\n",
    "\n",
    "    #construct the insert query\n",
    "    query = db.insert(table).values(\n",
    "        uri = r.uri, lexical = r.name, results = r.found, \n",
    "        type = r.type, json = r.get_facets().to_json(),\n",
    "        matches = matches, score = r.score,\n",
    "        )\n",
    "    #execute it\n",
    "    ResultProxy = con.execute(query)"
   ]
  },
  {
   "source": [
    "# Get the Data in Dash"
   ],
   "cell_type": "markdown",
   "metadata": {}
  },
  {
   "cell_type": "code",
   "execution_count": null,
   "metadata": {},
   "outputs": [],
   "source": [
    "word = \"gazastreifen\"\n",
    "query = db.select([table]).where(table.columns.uri == f\"http://api.zeit.de/keyword/{word}\")\n",
    "ResultProxy = con.execute(query)\n",
    "result = ResultProxy.fetchall()"
   ]
  },
  {
   "cell_type": "code",
   "execution_count": null,
   "metadata": {},
   "outputs": [],
   "source": [
    "#better querys\n",
    "query = db.select([table]).filter(db.or_( #SELECT * FROM table WHERE \n",
    "        table.columns.uri.like(f\"%meck%\"), #uri LIKE '%word%' OR\n",
    "        table.columns.lexical.like(f\"%meck%\"), #lexical LIKE '%word%' OR\n",
    "        )\n",
    "        ).order_by(db.desc(table.columns.results)).limit(5) #ORDER BY results DESC LIMIT 5\n",
    "ResultProxy = con.execute(query)\n",
    "result = ResultProxy.fetchall()"
   ]
  }
 ]
}