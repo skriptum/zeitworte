{
 "metadata": {
  "language_info": {
   "codemirror_mode": {
    "name": "ipython",
    "version": 3
   },
   "file_extension": ".py",
   "mimetype": "text/x-python",
   "name": "python",
   "nbconvert_exporter": "python",
   "pygments_lexer": "ipython3",
   "version": "3.9.1-final"
  },
  "orig_nbformat": 2,
  "kernelspec": {
   "name": "python3",
   "display_name": "Python 3.9.1 64-bit ('root': venv)",
   "metadata": {
    "interpreter": {
     "hash": "9c303f2c39f84cd8ac040532a08eb1102ba77379f0ca31dc4c8d4f3b5d3b563e"
    }
   }
  }
 },
 "nbformat": 4,
 "nbformat_minor": 2,
 "cells": [
  {
   "source": [
    "# Imports and Setup"
   ],
   "cell_type": "markdown",
   "metadata": {}
  },
  {
   "cell_type": "code",
   "execution_count": 45,
   "metadata": {},
   "outputs": [],
   "source": [
    "import requests\n",
    "import pandas as pd\n",
    "import configparser\n",
    "import zeit\n",
    "\n",
    "import plotly.express as px"
   ]
  },
  {
   "cell_type": "code",
   "execution_count": 4,
   "metadata": {},
   "outputs": [
    {
     "output_type": "execute_result",
     "data": {
      "text/plain": [
       "'everything ok'"
      ]
     },
     "metadata": {},
     "execution_count": 4
    }
   ],
   "source": [
    "c = configparser.ConfigParser()\n",
    "c.read(\"config.ini\")\n",
    "zeit_key = c.get(\"Zeit\", \"key\")\n",
    "\n",
    "#set the API, authenticate and check status\n",
    "api = zeit.API()\n",
    "api.set_token(zeit_key)\n",
    "api.get_status()"
   ]
  },
  {
   "source": [
    "# call the API"
   ],
   "cell_type": "markdown",
   "metadata": {}
  },
  {
   "cell_type": "code",
   "execution_count": 5,
   "metadata": {},
   "outputs": [],
   "source": [
    "#call to the API and facet by authors\n",
    "headers = {\"X-Authorization\": zeit_key}\n",
    "params = {\"facet_field\": \"author\", \"limit\": 2}\n",
    "url = \"http://api.zeit.de/content\"\n",
    "import requests\n",
    "r = requests.get(url=url, headers = headers, params=params)"
   ]
  },
  {
   "source": [
    "# Construct Series"
   ],
   "cell_type": "markdown",
   "metadata": {}
  },
  {
   "cell_type": "code",
   "execution_count": 6,
   "metadata": {},
   "outputs": [],
   "source": [
    "#construct a list from the facet field\n",
    "l = r.json()[\"facets\"][\"author\"]"
   ]
  },
  {
   "cell_type": "code",
   "execution_count": 20,
   "metadata": {},
   "outputs": [],
   "source": [
    "#convert the list to a pandas Series , quite intensive work\n",
    "long_series = pd.Series(dtype = \"object\")\n",
    "for i in range(0,len(l)-2, 2):\n",
    "    author = l[i]\n",
    "    count = l[i+1]\n",
    "    long_series[author] = count"
   ]
  },
  {
   "cell_type": "code",
   "execution_count": 70,
   "metadata": {},
   "outputs": [
    {
     "output_type": "execute_result",
     "data": {
      "text/plain": [
       "dpa                  3199\n",
       "AFP                  1840\n",
       "redaktion            1549\n",
       "Oliver Fritsch       1425\n",
       "Reuters              1327\n",
       "Christoph Drösser    1322\n",
       "Katharina Schuler    1225\n",
       "Theo Sommer          1224\n",
       "Tina Groll           1206\n",
       "Kai Biermann         1192\n",
       "dtype: int64"
      ]
     },
     "metadata": {},
     "execution_count": 70
    }
   ],
   "source": [
    "#filter the list for better results\n",
    "series = long_series[long_series > 10]\n",
    "#show the top authors by their articles\n",
    "series = series.sort_values(ascending=False)\n",
    "series[:10]"
   ]
  },
  {
   "source": [
    "# explore names "
   ],
   "cell_type": "markdown",
   "metadata": {}
  },
  {
   "cell_type": "code",
   "execution_count": 24,
   "metadata": {},
   "outputs": [],
   "source": [
    "#pandas series for names\n",
    "names = long_series.index.to_series(index = pd.RangeIndex(start = 0, stop = len(long_series))) #new series from the index of long series\n",
    "names = names.str.split().explode(ignore_index = True)\n",
    "\n",
    "#show the most used names\n",
    "names = names.value_counts()"
   ]
  },
  {
   "cell_type": "code",
   "execution_count": 27,
   "metadata": {},
   "outputs": [
    {
     "output_type": "execute_result",
     "data": {
      "text/plain": [
       "Annette        49\n",
       "V.             49\n",
       "Jutta          49\n",
       "Hofmann        49\n",
       "Rene           49\n",
       "-              49\n",
       "Heike          48\n",
       "Klaus-Peter    48\n",
       "Lothar         48\n",
       "Katja          48\n",
       "dtype: int64"
      ]
     },
     "metadata": {},
     "execution_count": 27
    }
   ],
   "source": [
    "names[:200]"
   ]
  },
  {
   "cell_type": "code",
   "execution_count": 37,
   "metadata": {},
   "outputs": [],
   "source": [
    "df = names[:150].to_frame(name = \"count\") #construct a dataframe from the series\n",
    "df[\"gender\"] = \"m\" #set the gender as m\n",
    "df.to_csv(\"../data/names.csv\") #save to csv\n",
    "\n",
    "#now i cleaned everything"
   ]
  },
  {
   "cell_type": "code",
   "execution_count": 66,
   "metadata": {},
   "outputs": [
    {
     "output_type": "execute_result",
     "data": {
      "text/plain": [
       "        names  count gender\n",
       "0       Peter    625      m\n",
       "1        Hans    564      m\n",
       "2     Michael    534      m\n",
       "3      Thomas    429      m\n",
       "4    Wolfgang    416      m\n",
       "..        ...    ...    ...\n",
       "100    Tobias     68      m\n",
       "101      Marc     67      m\n",
       "102      Nina     66      f\n",
       "103  Stefanie     64      f\n",
       "104   Florian     63      m\n",
       "\n",
       "[105 rows x 3 columns]"
      ],
      "text/html": "<div>\n<style scoped>\n    .dataframe tbody tr th:only-of-type {\n        vertical-align: middle;\n    }\n\n    .dataframe tbody tr th {\n        vertical-align: top;\n    }\n\n    .dataframe thead th {\n        text-align: right;\n    }\n</style>\n<table border=\"1\" class=\"dataframe\">\n  <thead>\n    <tr style=\"text-align: right;\">\n      <th></th>\n      <th>names</th>\n      <th>count</th>\n      <th>gender</th>\n    </tr>\n  </thead>\n  <tbody>\n    <tr>\n      <th>0</th>\n      <td>Peter</td>\n      <td>625</td>\n      <td>m</td>\n    </tr>\n    <tr>\n      <th>1</th>\n      <td>Hans</td>\n      <td>564</td>\n      <td>m</td>\n    </tr>\n    <tr>\n      <th>2</th>\n      <td>Michael</td>\n      <td>534</td>\n      <td>m</td>\n    </tr>\n    <tr>\n      <th>3</th>\n      <td>Thomas</td>\n      <td>429</td>\n      <td>m</td>\n    </tr>\n    <tr>\n      <th>4</th>\n      <td>Wolfgang</td>\n      <td>416</td>\n      <td>m</td>\n    </tr>\n    <tr>\n      <th>...</th>\n      <td>...</td>\n      <td>...</td>\n      <td>...</td>\n    </tr>\n    <tr>\n      <th>100</th>\n      <td>Tobias</td>\n      <td>68</td>\n      <td>m</td>\n    </tr>\n    <tr>\n      <th>101</th>\n      <td>Marc</td>\n      <td>67</td>\n      <td>m</td>\n    </tr>\n    <tr>\n      <th>102</th>\n      <td>Nina</td>\n      <td>66</td>\n      <td>f</td>\n    </tr>\n    <tr>\n      <th>103</th>\n      <td>Stefanie</td>\n      <td>64</td>\n      <td>f</td>\n    </tr>\n    <tr>\n      <th>104</th>\n      <td>Florian</td>\n      <td>63</td>\n      <td>m</td>\n    </tr>\n  </tbody>\n</table>\n<p>105 rows × 3 columns</p>\n</div>"
     },
     "metadata": {},
     "execution_count": 66
    }
   ],
   "source": [
    "df = pd.read_csv(\"../data/names.csv\", names = [\"names\", \"count\", \"gender\"], header = 0) #read in the data again\n",
    "df"
   ]
  },
  {
   "cell_type": "code",
   "execution_count": 112,
   "metadata": {},
   "outputs": [
    {
     "output_type": "display_data",
     "data": {
      "application/vnd.plotly.v1+json": {
       "config": {
        "plotlyServerURL": "https://plot.ly"
       },
       "data": [
        {
         "alignmentgroup": "True",
         "hovertemplate": "<b>%{hovertext}</b><br><br>gender=m<br>index=%{x}<br>count=%{y}<extra></extra>",
         "hovertext": [
          "Peter",
          "Hans",
          "Michael",
          "Thomas",
          "Wolfgang",
          "Christian",
          "Martin",
          "Klaus",
          "Heinz",
          "Walter",
          "Werner",
          "Andreas",
          "Ulrich",
          "Paul",
          "Joachim",
          "Dieter",
          "Robert",
          "Christoph",
          "Jürgen",
          "Stefan",
          "Karl",
          "Ernst",
          "Gerhard",
          "Rudolf",
          "Helmut",
          "Horst",
          "Rolf",
          "Manfred",
          "Alexander",
          "Jan",
          "Matthias",
          "Frank",
          "Georg",
          "Rainer",
          "Richard",
          "Fritz",
          "Günter",
          "Johannes",
          "Josef",
          "Friedrich",
          "Bernd",
          "Hermann",
          "Kurt",
          "Heinrich",
          "Daniel",
          "Wilhelm",
          "Otto",
          "Franz",
          "David"
         ],
         "legendgroup": "m",
         "marker": {
          "color": "#636efa"
         },
         "name": "m",
         "offsetgroup": "m",
         "orientation": "v",
         "showlegend": true,
         "textposition": "auto",
         "type": "bar",
         "x": [
          0,
          1,
          2,
          3,
          4,
          5,
          6,
          7,
          8,
          9,
          10,
          11,
          12,
          13,
          14,
          15,
          16,
          17,
          18,
          19,
          20,
          21,
          22,
          23,
          24,
          25,
          26,
          27,
          28,
          29,
          30,
          31,
          32,
          33,
          34,
          35,
          36,
          37,
          38,
          39,
          41,
          42,
          43,
          44,
          45,
          46,
          47,
          48,
          49
         ],
         "xaxis": "x",
         "y": [
          625,
          564,
          534,
          429,
          416,
          403,
          363,
          340,
          304,
          301,
          291,
          290,
          264,
          256,
          240,
          223,
          220,
          215,
          211,
          209,
          203,
          190,
          189,
          186,
          181,
          178,
          174,
          173,
          172,
          171,
          169,
          167,
          161,
          160,
          155,
          148,
          146,
          146,
          145,
          145,
          142,
          140,
          138,
          137,
          131,
          129,
          127,
          127,
          123
         ],
         "yaxis": "y"
        },
        {
         "alignmentgroup": "True",
         "hovertemplate": "<b>%{hovertext}</b><br><br>gender=f<br>index=%{x}<br>count=%{y}<extra></extra>",
         "hovertext": [
          "Barbara"
         ],
         "legendgroup": "f",
         "marker": {
          "color": "#EF553B"
         },
         "name": "f",
         "offsetgroup": "f",
         "orientation": "v",
         "showlegend": true,
         "textposition": "auto",
         "type": "bar",
         "x": [
          40
         ],
         "xaxis": "x",
         "y": [
          143
         ],
         "yaxis": "y"
        }
       ],
       "layout": {
        "barmode": "relative",
        "legend": {
         "title": {
          "text": "gender"
         },
         "tracegroupgap": 0
        },
        "margin": {
         "t": 60
        },
        "template": {
         "data": {
          "bar": [
           {
            "error_x": {
             "color": "#2a3f5f"
            },
            "error_y": {
             "color": "#2a3f5f"
            },
            "marker": {
             "line": {
              "color": "#E5ECF6",
              "width": 0.5
             }
            },
            "type": "bar"
           }
          ],
          "barpolar": [
           {
            "marker": {
             "line": {
              "color": "#E5ECF6",
              "width": 0.5
             }
            },
            "type": "barpolar"
           }
          ],
          "carpet": [
           {
            "aaxis": {
             "endlinecolor": "#2a3f5f",
             "gridcolor": "white",
             "linecolor": "white",
             "minorgridcolor": "white",
             "startlinecolor": "#2a3f5f"
            },
            "baxis": {
             "endlinecolor": "#2a3f5f",
             "gridcolor": "white",
             "linecolor": "white",
             "minorgridcolor": "white",
             "startlinecolor": "#2a3f5f"
            },
            "type": "carpet"
           }
          ],
          "choropleth": [
           {
            "colorbar": {
             "outlinewidth": 0,
             "ticks": ""
            },
            "type": "choropleth"
           }
          ],
          "contour": [
           {
            "colorbar": {
             "outlinewidth": 0,
             "ticks": ""
            },
            "colorscale": [
             [
              0,
              "#0d0887"
             ],
             [
              0.1111111111111111,
              "#46039f"
             ],
             [
              0.2222222222222222,
              "#7201a8"
             ],
             [
              0.3333333333333333,
              "#9c179e"
             ],
             [
              0.4444444444444444,
              "#bd3786"
             ],
             [
              0.5555555555555556,
              "#d8576b"
             ],
             [
              0.6666666666666666,
              "#ed7953"
             ],
             [
              0.7777777777777778,
              "#fb9f3a"
             ],
             [
              0.8888888888888888,
              "#fdca26"
             ],
             [
              1,
              "#f0f921"
             ]
            ],
            "type": "contour"
           }
          ],
          "contourcarpet": [
           {
            "colorbar": {
             "outlinewidth": 0,
             "ticks": ""
            },
            "type": "contourcarpet"
           }
          ],
          "heatmap": [
           {
            "colorbar": {
             "outlinewidth": 0,
             "ticks": ""
            },
            "colorscale": [
             [
              0,
              "#0d0887"
             ],
             [
              0.1111111111111111,
              "#46039f"
             ],
             [
              0.2222222222222222,
              "#7201a8"
             ],
             [
              0.3333333333333333,
              "#9c179e"
             ],
             [
              0.4444444444444444,
              "#bd3786"
             ],
             [
              0.5555555555555556,
              "#d8576b"
             ],
             [
              0.6666666666666666,
              "#ed7953"
             ],
             [
              0.7777777777777778,
              "#fb9f3a"
             ],
             [
              0.8888888888888888,
              "#fdca26"
             ],
             [
              1,
              "#f0f921"
             ]
            ],
            "type": "heatmap"
           }
          ],
          "heatmapgl": [
           {
            "colorbar": {
             "outlinewidth": 0,
             "ticks": ""
            },
            "colorscale": [
             [
              0,
              "#0d0887"
             ],
             [
              0.1111111111111111,
              "#46039f"
             ],
             [
              0.2222222222222222,
              "#7201a8"
             ],
             [
              0.3333333333333333,
              "#9c179e"
             ],
             [
              0.4444444444444444,
              "#bd3786"
             ],
             [
              0.5555555555555556,
              "#d8576b"
             ],
             [
              0.6666666666666666,
              "#ed7953"
             ],
             [
              0.7777777777777778,
              "#fb9f3a"
             ],
             [
              0.8888888888888888,
              "#fdca26"
             ],
             [
              1,
              "#f0f921"
             ]
            ],
            "type": "heatmapgl"
           }
          ],
          "histogram": [
           {
            "marker": {
             "colorbar": {
              "outlinewidth": 0,
              "ticks": ""
             }
            },
            "type": "histogram"
           }
          ],
          "histogram2d": [
           {
            "colorbar": {
             "outlinewidth": 0,
             "ticks": ""
            },
            "colorscale": [
             [
              0,
              "#0d0887"
             ],
             [
              0.1111111111111111,
              "#46039f"
             ],
             [
              0.2222222222222222,
              "#7201a8"
             ],
             [
              0.3333333333333333,
              "#9c179e"
             ],
             [
              0.4444444444444444,
              "#bd3786"
             ],
             [
              0.5555555555555556,
              "#d8576b"
             ],
             [
              0.6666666666666666,
              "#ed7953"
             ],
             [
              0.7777777777777778,
              "#fb9f3a"
             ],
             [
              0.8888888888888888,
              "#fdca26"
             ],
             [
              1,
              "#f0f921"
             ]
            ],
            "type": "histogram2d"
           }
          ],
          "histogram2dcontour": [
           {
            "colorbar": {
             "outlinewidth": 0,
             "ticks": ""
            },
            "colorscale": [
             [
              0,
              "#0d0887"
             ],
             [
              0.1111111111111111,
              "#46039f"
             ],
             [
              0.2222222222222222,
              "#7201a8"
             ],
             [
              0.3333333333333333,
              "#9c179e"
             ],
             [
              0.4444444444444444,
              "#bd3786"
             ],
             [
              0.5555555555555556,
              "#d8576b"
             ],
             [
              0.6666666666666666,
              "#ed7953"
             ],
             [
              0.7777777777777778,
              "#fb9f3a"
             ],
             [
              0.8888888888888888,
              "#fdca26"
             ],
             [
              1,
              "#f0f921"
             ]
            ],
            "type": "histogram2dcontour"
           }
          ],
          "mesh3d": [
           {
            "colorbar": {
             "outlinewidth": 0,
             "ticks": ""
            },
            "type": "mesh3d"
           }
          ],
          "parcoords": [
           {
            "line": {
             "colorbar": {
              "outlinewidth": 0,
              "ticks": ""
             }
            },
            "type": "parcoords"
           }
          ],
          "pie": [
           {
            "automargin": true,
            "type": "pie"
           }
          ],
          "scatter": [
           {
            "marker": {
             "colorbar": {
              "outlinewidth": 0,
              "ticks": ""
             }
            },
            "type": "scatter"
           }
          ],
          "scatter3d": [
           {
            "line": {
             "colorbar": {
              "outlinewidth": 0,
              "ticks": ""
             }
            },
            "marker": {
             "colorbar": {
              "outlinewidth": 0,
              "ticks": ""
             }
            },
            "type": "scatter3d"
           }
          ],
          "scattercarpet": [
           {
            "marker": {
             "colorbar": {
              "outlinewidth": 0,
              "ticks": ""
             }
            },
            "type": "scattercarpet"
           }
          ],
          "scattergeo": [
           {
            "marker": {
             "colorbar": {
              "outlinewidth": 0,
              "ticks": ""
             }
            },
            "type": "scattergeo"
           }
          ],
          "scattergl": [
           {
            "marker": {
             "colorbar": {
              "outlinewidth": 0,
              "ticks": ""
             }
            },
            "type": "scattergl"
           }
          ],
          "scattermapbox": [
           {
            "marker": {
             "colorbar": {
              "outlinewidth": 0,
              "ticks": ""
             }
            },
            "type": "scattermapbox"
           }
          ],
          "scatterpolar": [
           {
            "marker": {
             "colorbar": {
              "outlinewidth": 0,
              "ticks": ""
             }
            },
            "type": "scatterpolar"
           }
          ],
          "scatterpolargl": [
           {
            "marker": {
             "colorbar": {
              "outlinewidth": 0,
              "ticks": ""
             }
            },
            "type": "scatterpolargl"
           }
          ],
          "scatterternary": [
           {
            "marker": {
             "colorbar": {
              "outlinewidth": 0,
              "ticks": ""
             }
            },
            "type": "scatterternary"
           }
          ],
          "surface": [
           {
            "colorbar": {
             "outlinewidth": 0,
             "ticks": ""
            },
            "colorscale": [
             [
              0,
              "#0d0887"
             ],
             [
              0.1111111111111111,
              "#46039f"
             ],
             [
              0.2222222222222222,
              "#7201a8"
             ],
             [
              0.3333333333333333,
              "#9c179e"
             ],
             [
              0.4444444444444444,
              "#bd3786"
             ],
             [
              0.5555555555555556,
              "#d8576b"
             ],
             [
              0.6666666666666666,
              "#ed7953"
             ],
             [
              0.7777777777777778,
              "#fb9f3a"
             ],
             [
              0.8888888888888888,
              "#fdca26"
             ],
             [
              1,
              "#f0f921"
             ]
            ],
            "type": "surface"
           }
          ],
          "table": [
           {
            "cells": {
             "fill": {
              "color": "#EBF0F8"
             },
             "line": {
              "color": "white"
             }
            },
            "header": {
             "fill": {
              "color": "#C8D4E3"
             },
             "line": {
              "color": "white"
             }
            },
            "type": "table"
           }
          ]
         },
         "layout": {
          "annotationdefaults": {
           "arrowcolor": "#2a3f5f",
           "arrowhead": 0,
           "arrowwidth": 1
          },
          "autotypenumbers": "strict",
          "coloraxis": {
           "colorbar": {
            "outlinewidth": 0,
            "ticks": ""
           }
          },
          "colorscale": {
           "diverging": [
            [
             0,
             "#8e0152"
            ],
            [
             0.1,
             "#c51b7d"
            ],
            [
             0.2,
             "#de77ae"
            ],
            [
             0.3,
             "#f1b6da"
            ],
            [
             0.4,
             "#fde0ef"
            ],
            [
             0.5,
             "#f7f7f7"
            ],
            [
             0.6,
             "#e6f5d0"
            ],
            [
             0.7,
             "#b8e186"
            ],
            [
             0.8,
             "#7fbc41"
            ],
            [
             0.9,
             "#4d9221"
            ],
            [
             1,
             "#276419"
            ]
           ],
           "sequential": [
            [
             0,
             "#0d0887"
            ],
            [
             0.1111111111111111,
             "#46039f"
            ],
            [
             0.2222222222222222,
             "#7201a8"
            ],
            [
             0.3333333333333333,
             "#9c179e"
            ],
            [
             0.4444444444444444,
             "#bd3786"
            ],
            [
             0.5555555555555556,
             "#d8576b"
            ],
            [
             0.6666666666666666,
             "#ed7953"
            ],
            [
             0.7777777777777778,
             "#fb9f3a"
            ],
            [
             0.8888888888888888,
             "#fdca26"
            ],
            [
             1,
             "#f0f921"
            ]
           ],
           "sequentialminus": [
            [
             0,
             "#0d0887"
            ],
            [
             0.1111111111111111,
             "#46039f"
            ],
            [
             0.2222222222222222,
             "#7201a8"
            ],
            [
             0.3333333333333333,
             "#9c179e"
            ],
            [
             0.4444444444444444,
             "#bd3786"
            ],
            [
             0.5555555555555556,
             "#d8576b"
            ],
            [
             0.6666666666666666,
             "#ed7953"
            ],
            [
             0.7777777777777778,
             "#fb9f3a"
            ],
            [
             0.8888888888888888,
             "#fdca26"
            ],
            [
             1,
             "#f0f921"
            ]
           ]
          },
          "colorway": [
           "#636efa",
           "#EF553B",
           "#00cc96",
           "#ab63fa",
           "#FFA15A",
           "#19d3f3",
           "#FF6692",
           "#B6E880",
           "#FF97FF",
           "#FECB52"
          ],
          "font": {
           "color": "#2a3f5f"
          },
          "geo": {
           "bgcolor": "white",
           "lakecolor": "white",
           "landcolor": "#E5ECF6",
           "showlakes": true,
           "showland": true,
           "subunitcolor": "white"
          },
          "hoverlabel": {
           "align": "left"
          },
          "hovermode": "closest",
          "mapbox": {
           "style": "light"
          },
          "paper_bgcolor": "white",
          "plot_bgcolor": "#E5ECF6",
          "polar": {
           "angularaxis": {
            "gridcolor": "white",
            "linecolor": "white",
            "ticks": ""
           },
           "bgcolor": "#E5ECF6",
           "radialaxis": {
            "gridcolor": "white",
            "linecolor": "white",
            "ticks": ""
           }
          },
          "scene": {
           "xaxis": {
            "backgroundcolor": "#E5ECF6",
            "gridcolor": "white",
            "gridwidth": 2,
            "linecolor": "white",
            "showbackground": true,
            "ticks": "",
            "zerolinecolor": "white"
           },
           "yaxis": {
            "backgroundcolor": "#E5ECF6",
            "gridcolor": "white",
            "gridwidth": 2,
            "linecolor": "white",
            "showbackground": true,
            "ticks": "",
            "zerolinecolor": "white"
           },
           "zaxis": {
            "backgroundcolor": "#E5ECF6",
            "gridcolor": "white",
            "gridwidth": 2,
            "linecolor": "white",
            "showbackground": true,
            "ticks": "",
            "zerolinecolor": "white"
           }
          },
          "shapedefaults": {
           "line": {
            "color": "#2a3f5f"
           }
          },
          "ternary": {
           "aaxis": {
            "gridcolor": "white",
            "linecolor": "white",
            "ticks": ""
           },
           "baxis": {
            "gridcolor": "white",
            "linecolor": "white",
            "ticks": ""
           },
           "bgcolor": "#E5ECF6",
           "caxis": {
            "gridcolor": "white",
            "linecolor": "white",
            "ticks": ""
           }
          },
          "title": {
           "x": 0.05
          },
          "xaxis": {
           "automargin": true,
           "gridcolor": "white",
           "linecolor": "white",
           "ticks": "",
           "title": {
            "standoff": 15
           },
           "zerolinecolor": "white",
           "zerolinewidth": 2
          },
          "yaxis": {
           "automargin": true,
           "gridcolor": "white",
           "linecolor": "white",
           "ticks": "",
           "title": {
            "standoff": 15
           },
           "zerolinecolor": "white",
           "zerolinewidth": 2
          }
         }
        },
        "xaxis": {
         "anchor": "y",
         "domain": [
          0,
          1
         ],
         "title": {
          "text": "index"
         }
        },
        "yaxis": {
         "anchor": "x",
         "domain": [
          0,
          1
         ],
         "title": {
          "text": "count"
         }
        }
       }
      }
     },
     "metadata": {}
    }
   ],
   "source": [
    "px.bar(df[:50], y = \"count\", color=\"gender\", hover_name=\"names\")"
   ]
  },
  {
   "cell_type": "code",
   "execution_count": 56,
   "metadata": {},
   "outputs": [
    {
     "output_type": "execute_result",
     "data": {
      "text/plain": [
       "        index  count gender\n",
       "0       Peter    625      m\n",
       "1        Hans    564      m\n",
       "2     Michael    534      m\n",
       "3      Thomas    429      m\n",
       "4    Wolfgang    416      m\n",
       "..        ...    ...    ...\n",
       "101    Tobias     68      m\n",
       "102      Marc     67      m\n",
       "103      Nina     66      f\n",
       "104  Stefanie     64      f\n",
       "105   Florian     63      m\n",
       "\n",
       "[106 rows x 3 columns]"
      ],
      "text/html": "<div>\n<style scoped>\n    .dataframe tbody tr th:only-of-type {\n        vertical-align: middle;\n    }\n\n    .dataframe tbody tr th {\n        vertical-align: top;\n    }\n\n    .dataframe thead th {\n        text-align: right;\n    }\n</style>\n<table border=\"1\" class=\"dataframe\">\n  <thead>\n    <tr style=\"text-align: right;\">\n      <th></th>\n      <th>index</th>\n      <th>count</th>\n      <th>gender</th>\n    </tr>\n  </thead>\n  <tbody>\n    <tr>\n      <th>0</th>\n      <td>Peter</td>\n      <td>625</td>\n      <td>m</td>\n    </tr>\n    <tr>\n      <th>1</th>\n      <td>Hans</td>\n      <td>564</td>\n      <td>m</td>\n    </tr>\n    <tr>\n      <th>2</th>\n      <td>Michael</td>\n      <td>534</td>\n      <td>m</td>\n    </tr>\n    <tr>\n      <th>3</th>\n      <td>Thomas</td>\n      <td>429</td>\n      <td>m</td>\n    </tr>\n    <tr>\n      <th>4</th>\n      <td>Wolfgang</td>\n      <td>416</td>\n      <td>m</td>\n    </tr>\n    <tr>\n      <th>...</th>\n      <td>...</td>\n      <td>...</td>\n      <td>...</td>\n    </tr>\n    <tr>\n      <th>101</th>\n      <td>Tobias</td>\n      <td>68</td>\n      <td>m</td>\n    </tr>\n    <tr>\n      <th>102</th>\n      <td>Marc</td>\n      <td>67</td>\n      <td>m</td>\n    </tr>\n    <tr>\n      <th>103</th>\n      <td>Nina</td>\n      <td>66</td>\n      <td>f</td>\n    </tr>\n    <tr>\n      <th>104</th>\n      <td>Stefanie</td>\n      <td>64</td>\n      <td>f</td>\n    </tr>\n    <tr>\n      <th>105</th>\n      <td>Florian</td>\n      <td>63</td>\n      <td>m</td>\n    </tr>\n  </tbody>\n</table>\n<p>106 rows × 3 columns</p>\n</div>"
     },
     "metadata": {},
     "execution_count": 56
    }
   ],
   "source": []
  },
  {
   "source": [
    "# explore top authors"
   ],
   "cell_type": "markdown",
   "metadata": {}
  },
  {
   "cell_type": "code",
   "execution_count": 83,
   "metadata": {},
   "outputs": [
    {
     "output_type": "execute_result",
     "data": {
      "text/plain": [
       "dpa                  3199\n",
       "AFP                  1840\n",
       "redaktion            1549\n",
       "Oliver Fritsch       1425\n",
       "Reuters              1327\n",
       "Christoph Drösser    1322\n",
       "Katharina Schuler    1225\n",
       "Theo Sommer          1224\n",
       "Tina Groll           1206\n",
       "Kai Biermann         1192\n",
       "Tilman Steffen       1174\n",
       "Josef Joffe          1137\n",
       "Michael Thumann      1089\n",
       "Patrick Beuth        1048\n",
       "Mark Schieritz       1027\n",
       "Lisa Caspari         1000\n",
       "Christian Spiller     997\n",
       "Gunter Hofmann        932\n",
       "Gero von Randow       908\n",
       "Mark Spörrle          873\n",
       "dtype: int64"
      ]
     },
     "metadata": {},
     "execution_count": 83
    }
   ],
   "source": [
    "series[:20]"
   ]
  },
  {
   "cell_type": "code",
   "execution_count": 113,
   "metadata": {},
   "outputs": [
    {
     "output_type": "execute_result",
     "data": {
      "text/plain": [
       " Search for 'Barbara': 142 results, limit: 10, matches : \n",
       " \n",
       "Barbara Beüys: http://api.zeit.de/author/Barbara-Beüys\n",
       "Barbara Sichtermann: http://api.zeit.de/author/Barbara-Sichtermann\n",
       "Barbara Ungeheuer: http://api.zeit.de/author/Barbara-Ungeheuer\n",
       "Barbara von Jhering: http://api.zeit.de/author/Barbara-von-Jhering\n",
       "Barbara Buerer: http://api.zeit.de/author/Barbara-Buerer\n",
       "Barbara Lehmann: http://api.zeit.de/author/Barbara-Lehmann\n",
       "Barbara v. Jhering: http://api.zeit.de/author/Barbara-v.-Jhering\n",
       "Barbara Bondy: http://api.zeit.de/author/Barbara-Bondy\n",
       "Barbara Ritzert: http://api.zeit.de/author/Barbara-Ritzert\n",
       "Barbara Gaehtgens: http://api.zeit.de/author/Barbara-Gaehtgens"
      ]
     },
     "metadata": {},
     "execution_count": 113
    }
   ],
   "source": [
    "api.search_for(\"Barbara\", \"author\")"
   ]
  },
  {
   "cell_type": "code",
   "execution_count": 109,
   "metadata": {},
   "outputs": [],
   "source": [
    "author_list = [\"dpa\", \"AFP\",\"redaktion\", \"Oliver-Fritsch\",\"Reuters\", \"Christoph-Drösser\", \n",
    "\"Katharina-Schuler\", \"Theo-Sommer\", \"Tina-Groll\", \"Kai-Biermann\", \"Tilman-Steffen\",\n",
    "\"Josef-Joffe\",\"Michael-Thumann\", \"Patrick-Beuth\",  \"Mark-Schieritz\", \"Lisa-Caspari\"\n",
    "\"Christian-Spiller\", \"Gunter-Hofmann\", \"Gero-von-Randow\", \"Mark-Spörrle\"]"
   ]
  },
  {
   "cell_type": "code",
   "execution_count": null,
   "metadata": {},
   "outputs": [],
   "source": []
  }
 ]
}